{
 "cells": [
  {
   "cell_type": "code",
   "execution_count": 1,
   "metadata": {},
   "outputs": [],
   "source": [
    "import duckdb\n",
    "from datetime import datetime"
   ]
  },
  {
   "cell_type": "code",
   "execution_count": 3,
   "metadata": {},
   "outputs": [
    {
     "name": "stdout",
     "output_type": "stream",
     "text": [
      "┌───────┬───────┬───────┐\n",
      "│   x   │   y   │ count │\n",
      "│ int64 │ int64 │ int64 │\n",
      "├───────┼───────┼───────┤\n",
      "│     0 │     0 │ 98807 │\n",
      "│   359 │   564 │ 69198 │\n",
      "│   349 │   564 │ 55230 │\n",
      "└───────┴───────┴───────┘\n",
      "\n"
     ]
    }
   ],
   "source": [
    "# Top 3 most painted pixels\n",
    "\n",
    "top_3 = duckdb.sql(f\"\"\"\n",
    "    SELECT x, y, COUNT(*) AS count\n",
    "    FROM \"2022pyarrow.parquet\"\n",
    "    GROUP BY x, y\n",
    "    ORDER BY COUNT(*) DESC\n",
    "    LIMIT 3\n",
    "\"\"\")\n",
    "\n",
    "print(top_3)"
   ]
  },
  {
   "cell_type": "code",
   "execution_count": 4,
   "metadata": {},
   "outputs": [
    {
     "name": "stdout",
     "output_type": "stream",
     "text": [
      "┌───────┬───────┬───────┐\n",
      "│   x   │   y   │ count │\n",
      "│ int64 │ int64 │ int64 │\n",
      "├───────┼───────┼───────┤\n",
      "│     0 │     0 │ 98807 │\n",
      "│   359 │   564 │ 69198 │\n",
      "│   349 │   564 │ 55230 │\n",
      "│   859 │   766 │ 52261 │\n",
      "│   860 │   766 │ 51485 │\n",
      "│   104 │   768 │ 38086 │\n",
      "│   105 │   768 │ 34082 │\n",
      "│  1999 │  1999 │ 31437 │\n",
      "│  1999 │     0 │ 30882 │\n",
      "│   633 │   728 │ 30752 │\n",
      "│  1058 │   756 │ 29295 │\n",
      "│  1999 │   999 │ 26928 │\n",
      "│   999 │   999 │ 23271 │\n",
      "│     0 │  1999 │ 22763 │\n",
      "│   420 │   420 │ 22365 │\n",
      "│     0 │   999 │ 22358 │\n",
      "│   780 │   888 │ 22164 │\n",
      "│   299 │   372 │ 21183 │\n",
      "│  1059 │   756 │ 19778 │\n",
      "│  1890 │   353 │ 19383 │\n",
      "├───────┴───────┴───────┤\n",
      "│ 20 rows     3 columns │\n",
      "└───────────────────────┘\n",
      "\n"
     ]
    }
   ],
   "source": [
    "# Most painted pixels\n",
    "\n",
    "most_placed_pixels = duckdb.sql(f\"\"\"\n",
    "    SELECT x, y, COUNT(*) AS count\n",
    "    FROM \"2022pyarrow.parquet\"\n",
    "    GROUP BY x, y\n",
    "    ORDER BY COUNT(*) DESC\n",
    "    LIMIT 20\n",
    "\"\"\")\n",
    "\n",
    "print(most_placed_pixels)"
   ]
  }
 ],
 "metadata": {
  "kernelspec": {
   "display_name": "Python 3",
   "language": "python",
   "name": "python3"
  },
  "language_info": {
   "codemirror_mode": {
    "name": "ipython",
    "version": 3
   },
   "file_extension": ".py",
   "mimetype": "text/x-python",
   "name": "python",
   "nbconvert_exporter": "python",
   "pygments_lexer": "ipython3",
   "version": "3.11.5"
  }
 },
 "nbformat": 4,
 "nbformat_minor": 2
}
