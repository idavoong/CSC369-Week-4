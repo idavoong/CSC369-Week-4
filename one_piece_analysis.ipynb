{
 "cells": [
  {
   "cell_type": "code",
   "execution_count": 2,
   "metadata": {},
   "outputs": [],
   "source": [
    "import duckdb\n",
    "from datetime import datetime"
   ]
  },
  {
   "cell_type": "code",
   "execution_count": 3,
   "metadata": {},
   "outputs": [
    {
     "name": "stdout",
     "output_type": "stream",
     "text": [
      "┌─────────────┬───────┐\n",
      "│ pixel_color │ count │\n",
      "│   varchar   │ int64 │\n",
      "├─────────────┼───────┤\n",
      "│ #000000     │ 34726 │\n",
      "│ #51E9F4     │ 26940 │\n",
      "│ #FF4500     │  1656 │\n",
      "│ #FFFFFF     │  1391 │\n",
      "│ #3690EA     │   860 │\n",
      "└─────────────┴───────┘\n",
      "\n"
     ]
    }
   ],
   "source": [
    "# colors used in pixel 359,564\n",
    "\n",
    "pixel_359_564 = duckdb.sql(f\"\"\"\n",
    "    SELECT pixel_color, COUNT(*) AS count\n",
    "    FROM \"2022pyarrow.parquet\"\n",
    "    WHERE x = 359 AND y = 564\n",
    "    GROUP BY pixel_color\n",
    "    ORDER BY COUNT(*) DESC\n",
    "    LIMIT 5\n",
    "\"\"\")\n",
    "\n",
    "# pixel_359_564.to_csv('pixel_359_564.csv', index=False)\n",
    "print(pixel_359_564)"
   ]
  },
  {
   "cell_type": "code",
   "execution_count": 4,
   "metadata": {},
   "outputs": [
    {
     "name": "stdout",
     "output_type": "stream",
     "text": [
      "┌─────────────┬───────┐\n",
      "│ pixel_color │ count │\n",
      "│   varchar   │ int64 │\n",
      "├─────────────┼───────┤\n",
      "│ #000000     │ 27804 │\n",
      "│ #51E9F4     │ 19404 │\n",
      "│ #FF4500     │  2120 │\n",
      "│ #FFFFFF     │  1512 │\n",
      "│ #BE0039     │   846 │\n",
      "└─────────────┴───────┘\n",
      "\n"
     ]
    }
   ],
   "source": [
    "# colors used in pixel 349,564\n",
    "\n",
    "pixel_349_564 = duckdb.sql(f\"\"\"\n",
    "    SELECT pixel_color, COUNT(*) AS count\n",
    "    FROM \"2022pyarrow.parquet\"\n",
    "    WHERE x = 349 AND y = 564\n",
    "    GROUP BY pixel_color\n",
    "    ORDER BY COUNT(*) DESC\n",
    "    LIMIT 5\n",
    "\"\"\")\n",
    "\n",
    "# pixel_349_564.to_csv('pixel_349_564.csv', index=False)\n",
    "print(pixel_349_564)"
   ]
  }
 ],
 "metadata": {
  "kernelspec": {
   "display_name": "Python 3",
   "language": "python",
   "name": "python3"
  },
  "language_info": {
   "codemirror_mode": {
    "name": "ipython",
    "version": 3
   },
   "file_extension": ".py",
   "mimetype": "text/x-python",
   "name": "python",
   "nbconvert_exporter": "python",
   "pygments_lexer": "ipython3",
   "version": "3.11.5"
  }
 },
 "nbformat": 4,
 "nbformat_minor": 2
}
