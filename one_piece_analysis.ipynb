{
 "cells": [
  {
   "cell_type": "code",
   "execution_count": 1,
   "metadata": {},
   "outputs": [],
   "source": [
    "import duckdb\n",
    "from datetime import datetime"
   ]
  },
  {
   "cell_type": "code",
   "execution_count": 2,
   "metadata": {},
   "outputs": [
    {
     "name": "stdout",
     "output_type": "stream",
     "text": [
      "   pixel_color  count\n",
      "0      #000000  34726\n",
      "1      #51E9F4  26940\n",
      "2      #FF4500   1656\n",
      "3      #FFFFFF   1391\n",
      "4      #3690EA    860\n",
      "5      #BE0039    680\n",
      "6      #FFD635    357\n",
      "7      #00CCC0    343\n",
      "8      #2450A4    288\n",
      "9      #7EED56    236\n",
      "10     #811E9F    201\n",
      "11     #FF3881    190\n",
      "12     #FF99AA    179\n",
      "13     #493AC1    139\n",
      "14     #FFA800    127\n",
      "15     #D4D7D9    119\n",
      "16     #B44AC0    110\n",
      "17     #00A368     84\n",
      "18     #6A5CFF     77\n",
      "19     #898D90     70\n",
      "20     #DE107F     60\n",
      "21     #00CC78     53\n",
      "22     #9C6926     50\n",
      "23     #6D001A     48\n",
      "24     #009EAA     46\n",
      "25     #515252     43\n",
      "26     #94B3FF     38\n",
      "27     #E4ABFF     34\n",
      "28     #00756F     20\n",
      "29     #FFF8B8     14\n",
      "30     #FFB470     10\n",
      "31     #6D482F      9\n"
     ]
    }
   ],
   "source": [
    "# colors used in pixel 359,564\n",
    "\n",
    "pixel_359_564 = duckdb.sql(f\"\"\"\n",
    "    SELECT pixel_color, COUNT(*) AS count\n",
    "    FROM \"2022pyarrow.parquet\"\n",
    "    WHERE x = 359 AND y = 564\n",
    "    GROUP BY pixel_color\n",
    "    ORDER BY COUNT(*) DESC\n",
    "\"\"\").df()\n",
    "\n",
    "# pixel_359_564.to_csv('pixel_359_564.csv', index=False)\n",
    "print(pixel_359_564)"
   ]
  },
  {
   "cell_type": "code",
   "execution_count": 3,
   "metadata": {},
   "outputs": [
    {
     "name": "stdout",
     "output_type": "stream",
     "text": [
      "   pixel_color  count\n",
      "0      #000000  27804\n",
      "1      #51E9F4  19404\n",
      "2      #FF4500   2120\n",
      "3      #FFFFFF   1512\n",
      "4      #BE0039    846\n",
      "5      #3690EA    461\n",
      "6      #FFD635    398\n",
      "7      #7EED56    310\n",
      "8      #00CCC0    267\n",
      "9      #FF99AA    246\n",
      "10     #811E9F    238\n",
      "11     #FF3881    217\n",
      "12     #FFA800    207\n",
      "13     #2450A4    188\n",
      "14     #493AC1    139\n",
      "15     #B44AC0    130\n",
      "16     #D4D7D9    114\n",
      "17     #00A368    106\n",
      "18     #DE107F     66\n",
      "19     #6A5CFF     60\n",
      "20     #898D90     53\n",
      "21     #6D001A     50\n",
      "22     #515252     47\n",
      "23     #00CC78     45\n",
      "24     #009EAA     44\n",
      "25     #9C6926     44\n",
      "26     #E4ABFF     36\n",
      "27     #94B3FF     28\n",
      "28     #00756F     18\n",
      "29     #FFB470     11\n",
      "30     #FFF8B8     11\n",
      "31     #6D482F     10\n"
     ]
    }
   ],
   "source": [
    "# colors used in pixel 349,564\n",
    "\n",
    "pixel_349_564 = duckdb.sql(f\"\"\"\n",
    "    SELECT pixel_color, COUNT(*) AS count\n",
    "    FROM \"2022pyarrow.parquet\"\n",
    "    WHERE x = 349 AND y = 564\n",
    "    GROUP BY pixel_color\n",
    "    ORDER BY COUNT(*) DESC\n",
    "\"\"\").df()\n",
    "\n",
    "# pixel_349_564.to_csv('pixel_349_564.csv', index=False)\n",
    "print(pixel_349_564)"
   ]
  }
 ],
 "metadata": {
  "kernelspec": {
   "display_name": "Python 3",
   "language": "python",
   "name": "python3"
  },
  "language_info": {
   "codemirror_mode": {
    "name": "ipython",
    "version": 3
   },
   "file_extension": ".py",
   "mimetype": "text/x-python",
   "name": "python",
   "nbconvert_exporter": "python",
   "pygments_lexer": "ipython3",
   "version": "3.11.5"
  }
 },
 "nbformat": 4,
 "nbformat_minor": 2
}
