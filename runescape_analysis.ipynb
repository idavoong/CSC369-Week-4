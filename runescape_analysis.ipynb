{
 "cells": [
  {
   "cell_type": "code",
   "execution_count": 1,
   "metadata": {},
   "outputs": [],
   "source": [
    "import duckdb\n",
    "from datetime import datetime"
   ]
  },
  {
   "cell_type": "code",
   "execution_count": 2,
   "metadata": {},
   "outputs": [
    {
     "name": "stdout",
     "output_type": "stream",
     "text": [
      "   pixel_color  count\n",
      "0      #FFFFFF  59282\n",
      "1      #000000   8715\n",
      "2      #FF4500   4209\n",
      "3      #811E9F   2200\n",
      "4      #BE0039   2189\n",
      "5      #51E9F4   2105\n",
      "6      #D4D7D9   2104\n",
      "7      #7EED56   1910\n",
      "8      #FF99AA   1692\n",
      "9      #2450A4   1567\n",
      "10     #FF3881   1427\n",
      "11     #FFD635   1172\n",
      "12     #00A368   1093\n",
      "13     #3690EA    977\n",
      "14     #493AC1    974\n",
      "15     #B44AC0    899\n",
      "16     #6D001A    817\n",
      "17     #FFA800    780\n",
      "18     #00CC78    672\n",
      "19     #DE107F    541\n",
      "20     #6A5CFF    510\n",
      "21     #9C6926    480\n",
      "22     #898D90    420\n",
      "23     #00756F    364\n",
      "24     #E4ABFF    310\n",
      "25     #FFB470    302\n",
      "26     #FFF8B8    233\n",
      "27     #94B3FF    213\n",
      "28     #6D482F    210\n",
      "29     #009EAA    181\n",
      "30     #00CCC0    154\n",
      "31     #515252    105\n"
     ]
    }
   ],
   "source": [
    "# colors used in pixel 0,0\n",
    "\n",
    "pixel_0_0 = duckdb.sql(f\"\"\"\n",
    "    SELECT pixel_color, COUNT(*) AS count\n",
    "    FROM \"2022pyarrow.parquet\"\n",
    "    WHERE x = 0 AND y = 0\n",
    "    GROUP BY pixel_color\n",
    "    ORDER BY COUNT(*) DESC\n",
    "\"\"\").df()\n",
    "\n",
    "# pixel_0_0.to_csv('pixel_0_0.csv', index=False)\n",
    "print(pixel_0_0)"
   ]
  },
  {
   "cell_type": "code",
   "execution_count": 3,
   "metadata": {},
   "outputs": [
    {
     "name": "stdout",
     "output_type": "stream",
     "text": [
      "┌───────┬───────┬───────┐\n",
      "│   x   │   y   │ count │\n",
      "│ int64 │ int64 │ int64 │\n",
      "├───────┼───────┼───────┤\n",
      "│     0 │     0 │ 98807 │\n",
      "│     1 │     1 │ 12083 │\n",
      "│     1 │     0 │ 11294 │\n",
      "│     0 │     1 │  9592 │\n",
      "│    80 │     9 │  6042 │\n",
      "│   161 │    24 │  5326 │\n",
      "│   162 │    24 │  4924 │\n",
      "│     2 │     0 │  4721 │\n",
      "│   163 │    26 │  4708 │\n",
      "│     2 │     2 │  4456 │\n",
      "│     · │     · │     · │\n",
      "│     · │     · │     · │\n",
      "│     · │     · │     · │\n",
      "│   207 │    24 │     2 │\n",
      "│   106 │    32 │     2 │\n",
      "│   177 │    32 │     2 │\n",
      "│    99 │    32 │     2 │\n",
      "│   109 │     8 │     2 │\n",
      "│    95 │    32 │     2 │\n",
      "│    94 │    27 │     2 │\n",
      "│   110 │     7 │     2 │\n",
      "│   215 │    27 │     2 │\n",
      "│    89 │    20 │     2 │\n",
      "├───────┴───────┴───────┤\n",
      "│ 7888 rows (20 shown)  │\n",
      "└───────────────────────┘\n",
      "\n"
     ]
    }
   ],
   "source": [
    "# RuneScape Canvas Dimensions\n",
    "top_left = (0, 0)\n",
    "top_right = (231, 0)\n",
    "bottom_left = (0, 33)\n",
    "bottom_right = (231, 33)\n",
    "\n",
    "pixel_hits = duckdb.sql(f\"\"\"\n",
    "    SELECT x, y, COUNT(*) AS count\n",
    "    FROM \"2022pyarrow.parquet\"\n",
    "    WHERE x BETWEEN {top_left[0]} AND {top_right[0]} AND y BETWEEN {top_left[1]} AND {bottom_left[1]}\n",
    "    GROUP BY x, y\n",
    "    ORDER BY count DESC\n",
    "\"\"\")\n",
    "\n",
    "print(pixel_hits)"
   ]
  },
  {
   "cell_type": "code",
   "execution_count": 4,
   "metadata": {},
   "outputs": [],
   "source": [
    "#"
   ]
  }
 ],
 "metadata": {
  "kernelspec": {
   "display_name": "Python 3",
   "language": "python",
   "name": "python3"
  },
  "language_info": {
   "codemirror_mode": {
    "name": "ipython",
    "version": 3
   },
   "file_extension": ".py",
   "mimetype": "text/x-python",
   "name": "python",
   "nbconvert_exporter": "python",
   "pygments_lexer": "ipython3",
   "version": "3.11.5"
  }
 },
 "nbformat": 4,
 "nbformat_minor": 2
}
